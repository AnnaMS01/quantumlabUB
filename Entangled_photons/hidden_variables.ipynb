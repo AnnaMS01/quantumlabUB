{
 "cells": [
  {
   "cell_type": "markdown",
   "metadata": {},
   "source": [
    "\n",
    "AUTOR: Robert Benassai Dalmau\n",
    "\n",
    "Aquest programa simula la teoria de variables ocultes amb un fotó d'angle aleatori i uns polaritzadors amb angles alpha i beta. També calcula la S de la desigualtat de Bell."
   ]
  },
  {
   "cell_type": "code",
   "execution_count": 14,
   "metadata": {},
   "outputs": [],
   "source": [
    "def rho(photon,alpha,beta):\n",
    "    #fem passar el fotó pels polaritzadors\n",
    "    detector1=0\n",
    "    detector2=0\n",
    "    photon = photon%(math.pi)\n",
    "    alpha = alpha%(math.pi)\n",
    "    beta = beta%(math.pi)\n",
    "    if abs(alpha-photon)<=(math.pi/4) or abs(alpha-photon)>(3*math.pi/4):#si passa pel primer pol\n",
    "        detector1=1\n",
    "    if abs(beta-photon)<=(math.pi/4) or abs(beta-photon)>(3*math.pi/4):#si passa pel segon\n",
    "        detector2=1\n",
    "    detectors=[detector1,detector2]\n",
    "    return(detectors)\n",
    "def rho2(photon,alpha,beta):\n",
    "    detector1=0\n",
    "    detector2=0\n",
    "    photon = photon%(math.pi)\n",
    "    alpha = alpha%(math.pi)\n",
    "    beta = beta%(math.pi)\n",
    "    if random.uniform(0, 1) < math.cos(alpha-photon)**2:\n",
    "        detector1 = 1\n",
    "    if random.uniform(0, 1) < math.cos(beta-photon)**2:\n",
    "        detector2 = 1\n",
    "    detectors=[detector1,detector2]\n",
    "    return(detectors)"
   ]
  },
  {
   "cell_type": "code",
   "execution_count": 17,
   "metadata": {
    "scrolled": true
   },
   "outputs": [
    {
     "name": "stdout",
     "output_type": "stream",
     "text": [
      "[-0.7853981633974483, -0.39269908169872414, 50022, 50038, 37518]\n",
      "[-0.7853981633974483, 0.39269908169872414, 49716, 50336, 12440]\n",
      "[-0.7853981633974483, 1.1780972450961724, 49944, 49960, 12444]\n",
      "[-0.7853981633974483, 1.9634954084936207, 50110, 50051, 37652]\n",
      "[0, -0.39269908169872414, 50033, 50189, 37670]\n",
      "[0, 0.39269908169872414, 49926, 50076, 37422]\n",
      "[0, 1.1780972450961724, 50036, 49932, 12438]\n",
      "[0, 1.9634954084936207, 49956, 49843, 12393]\n",
      "[0.7853981633974483, -0.39269908169872414, 49741, 50183, 12419]\n",
      "[0.7853981633974483, 0.39269908169872414, 49999, 50127, 37507]\n",
      "[0.7853981633974483, 1.1780972450961724, 50155, 50235, 37590]\n",
      "[0.7853981633974483, 1.9634954084936207, 50129, 49939, 12591]\n",
      "[1.5707963267948966, -0.39269908169872414, 49797, 50310, 12530]\n",
      "[1.5707963267948966, 0.39269908169872414, 50001, 49997, 12464]\n",
      "[1.5707963267948966, 1.1780972450961724, 49823, 49820, 37413]\n",
      "[1.5707963267948966, 1.9634954084936207, 49979, 50183, 37548]\n"
     ]
    }
   ],
   "source": [
    "import random\n",
    "import math\n",
    "#creem les llistes dels angles que posarem als polaritzadors\n",
    "pol1=[-math.pi/4,0,math.pi/4,math.pi/2]\n",
    "pol2=[-math.pi/8,math.pi/8,3*math.pi/8,5*math.pi/8]\n",
    "table1=[]\n",
    "random.seed(1000)\n",
    "for alpha in pol1:\n",
    "    for beta in pol2:\n",
    "#nombre total de fotons tirats, vertical-vertical, VH...\n",
    "        N=100000\n",
    "        VV=0\n",
    "        HH=0\n",
    "        HV=0\n",
    "        VH=0\n",
    "        for i in range(1,N):\n",
    "        #fotó de polarització aleatòria entre [-pi,pi]\n",
    "            photon=random.uniform(-math.pi,math.pi)#ha de ser entre -pi i pi perquè si no el alpha=-45 no pilla cap al detector1\n",
    "            \n",
    "        #fem passar el fotó pels polaritzadors\n",
    "            detectors=rho(photon,alpha,beta)#funció de distribució de probabilitat\n",
    "            detector1=detectors[0]\n",
    "            detector2=detectors[1]\n",
    "        #organitzem els resultats per VV, VH, HV, HH\n",
    "            if detector1==1 and detector2==1:\n",
    "                VV=VV+1\n",
    "            elif detector1==1 and detector2==0:\n",
    "                VH=VH+1\n",
    "            elif detector1==0 and detector2==1:\n",
    "                HV=HV+1\n",
    "            elif detector1==0 and detector2==0:\n",
    "                HH=HH+1\n",
    "            else:\n",
    "                print('error',detector1,detector2)\n",
    "                \n",
    "# [angle del pol1, angle pol2, deteccions detector 1, deteccions detector 2, Entrellaçats (detectats VV)]\n",
    "        resultats=[alpha,beta,VH+VV,HV+VV,VV]\n",
    "        table1.append(resultats)\n",
    "        resultats=[]\n",
    "for i in table1:\n",
    "    print(i)\n",
    "            "
   ]
  },
  {
   "cell_type": "markdown",
   "metadata": {},
   "source": [
    "Amb aquestes dades calculem la S desigualtat de Bell:"
   ]
  },
  {
   "cell_type": "code",
   "execution_count": 18,
   "metadata": {},
   "outputs": [
    {
     "name": "stdout",
     "output_type": "stream",
     "text": [
      "S= 2.0058181280711973\n"
     ]
    }
   ],
   "source": [
    "Elist=[]\n",
    "#Nc=llista de coincidències, agafa la última columna de la taula\n",
    "Nc=[]\n",
    "for result in table1:\n",
    "    Nc.append(result[4])\n",
    "#posicions en la llista de coincidències de E(alpha,beta). Ho faig així perquè segueixen un patró.\n",
    "posab=[0,1,4,5]\n",
    "for i in posab:\n",
    "    #calcula la E segons la posició de E(alpha,beta) de la llista de coincidències\n",
    "    E=(Nc[i]+Nc[i+10]-Nc[i+2]-Nc[i+8])/(Nc[i]+Nc[i+10]+Nc[i+2]+Nc[i+8])\n",
    "    Elist.append(E)\n",
    "#Agafem els angles a=-45, a'=0 i b=22.5, b'=-22.5\n",
    "#print(Elist)\n",
    "S=Elist[0]-Elist[1]+Elist[2]+Elist[3]\n",
    "\n",
    "print('S=',abs(S))\n"
   ]
  },
  {
   "cell_type": "markdown",
   "metadata": {},
   "source": [
    "Test del càlcul de S amb les dades de la TABLE 1 del paper"
   ]
  },
  {
   "cell_type": "code",
   "execution_count": 48,
   "metadata": {},
   "outputs": [
    {
     "name": "stdout",
     "output_type": "stream",
     "text": [
      "S= 2.3073155785321418\n"
     ]
    }
   ],
   "source": [
    "Elist=[]\n",
    "#Nc=llista de coincidències, agafa la última fila de la taula\n",
    "Nc=[842,212,302,836,891,869,173,261,255,830,814,221,170,259,969,846]\n",
    "#posicions en la llista de coincidències de E(alpha,beta). Ho faig així perquè segueixen un patró.\n",
    "posab=[0,1,4,5]\n",
    "for i in posab:\n",
    "    #calcula la E segons la posició de E(alpha,beta) de la llista de coincidències\n",
    "    E=(Nc[i]+Nc[i+10]-Nc[i+2]-Nc[i+8])/(Nc[i]+Nc[i+10]+Nc[i+2]+Nc[i+8])\n",
    "    Elist.append(E)\n",
    "#Agafem els angles a=-45, a'=0 i b=22.5, b'=-22.5\n",
    "#print(Elist)\n",
    "S=Elist[0]-Elist[1]+Elist[2]+Elist[3]\n",
    "\n",
    "print('S=',abs(S))\n",
    "\n",
    "            "
   ]
  },
  {
   "cell_type": "markdown",
   "metadata": {},
   "source": [
    "Surt el que els hi dona al paper (dades reals)\n"
   ]
  },
  {
   "cell_type": "code",
   "execution_count": 13,
   "metadata": {},
   "outputs": [
    {
     "data": {
      "text/plain": [
       "1.5707963267948966"
      ]
     },
     "execution_count": 13,
     "metadata": {},
     "output_type": "execute_result"
    }
   ],
   "source": [
    "(-math.pi/2)%math.pi\n",
    "    "
   ]
  },
  {
   "cell_type": "markdown",
   "metadata": {},
   "source": [
    "### Experiment quàntic"
   ]
  },
  {
   "cell_type": "code",
   "execution_count": 1,
   "metadata": {},
   "outputs": [],
   "source": [
    "import math\n",
    "\n",
    "def verticals(alpha, beta, thetal,phi):\n",
    "    #prob VV\n",
    "    verticals=math.sin(alpha)**2*math.sin(beta)**2*math.cos(thetal)**2+math.cos(alpha)**2*math.cos(beta)**2 \\\n",
    "    *math.sin(thetal)**2+(1/4)*math.sin(2*alpha)*math.sin(2*beta)*math.sin(2*thetal)*math.cos(phi)\n",
    "    return(verticals)\n",
    "\n",
    "def crossed(alpha, beta, thetal,phi):\n",
    "    #prob HV o VH\n",
    "    Pcrossed=math.sin(alpha)**2*math.cos(beta)**2*math.cos(thetal)**2-(1/4)*math.sin(2*alpha)*math.sin(2*beta)*\\\n",
    "    math.sin(2*thetal)*math.cos(phi)+math.cos(alpha)**2*math.sin(beta)**2*math.sin(thetal)**2\n",
    "    return(Pcrossed)\n",
    "\n",
    "def horizontals(alpha, beta, thetal,phi):\n",
    "    Phh=math.cos(alpha)**2*math.cos(beta)**2*math.cos(thetal)**2+math.sin(alpha)**2*math.sin(beta)**2*math.sin(thetal)**2+\\\n",
    "    (1/4)*math.sin(2*alpha)*math.sin(2*beta)*math.sin(2*thetal)*math.cos(phi)\n",
    "    return(Phh)"
   ]
  },
  {
   "cell_type": "code",
   "execution_count": 2,
   "metadata": {},
   "outputs": [],
   "source": [
    "import math\n",
    "\n",
    "def expqua(photons,alpha, beta, thetal,phi):\n",
    "    #creem les llistes dels angles que posarem als polaritzadors per poder calcular S\n",
    "    #fem que els angles estiguin entre -pi i pi\n",
    "    pol1=[]\n",
    "    pol2=[]\n",
    "    for i in range(0,4):\n",
    "        if (alpha+i*math.pi/4)>math.pi:\n",
    "            pol1.append(alpha+i*math.pi/4-2*math.pi)\n",
    "        else:\n",
    "            pol1.append(alpha+i*math.pi/4)\n",
    "    for i in range(0,4):\n",
    "        if beta+i*math.pi/4>math.pi:\n",
    "            pol2.append(beta+i*math.pi/4-2*math.pi)\n",
    "        else:\n",
    "            pol2.append(beta+i*math.pi/4)     \n",
    "    table1=[]\n",
    "    for a1 in pol1:\n",
    "        for b1 in pol2:\n",
    "            \n",
    "            VV=int(verticals(a1,b1,thetal,phi)*photons)\n",
    "            VH=int(crossed(a1,b1,thetal,phi)*photons)\n",
    "            HV=int(crossed(b1,a1,thetal,phi)*photons)#simplement canviar alpha per beta i viceversa\n",
    "            \n",
    "            resultats=[a1,b1,VH,HV,VV]\n",
    "            table1.append(resultats)\n",
    "            resultats=[]\n",
    "    \n",
    "    return(table1)"
   ]
  },
  {
   "cell_type": "code",
   "execution_count": 3,
   "metadata": {},
   "outputs": [
    {
     "name": "stdout",
     "output_type": "stream",
     "text": [
      "[-0.7853981633974483, -0.39269908169872414, 7380, 7380, 33119]\n",
      "[-0.7853981633974483, 0.39269908169872414, 33119, 33119, 7380]\n",
      "[-0.7853981633974483, 1.1780972450961724, 33119, 33119, 7380]\n",
      "[-0.7853981633974483, 1.9634954084936207, 7380, 7380, 33119]\n",
      "[0.0, -0.39269908169872414, 5931, 5931, 34568]\n",
      "[0.0, 0.39269908169872414, 5931, 5931, 34568]\n",
      "[0.0, 1.1780972450961724, 34568, 34568, 5931]\n",
      "[0.0, 1.9634954084936207, 34568, 34568, 5931]\n",
      "[0.7853981633974483, -0.39269908169872414, 33119, 33119, 7380]\n",
      "[0.7853981633974483, 0.39269908169872414, 7380, 7380, 33119]\n",
      "[0.7853981633974483, 1.1780972450961724, 7380, 7380, 33119]\n",
      "[0.7853981633974483, 1.9634954084936207, 33119, 33119, 7380]\n",
      "[1.5707963267948966, -0.39269908169872414, 34568, 34568, 5931]\n",
      "[1.5707963267948966, 0.39269908169872414, 34568, 34568, 5931]\n",
      "[1.5707963267948966, 1.1780972450961724, 5931, 5931, 34568]\n",
      "[1.5707963267948966, 1.9634954084936207, 5931, 5931, 34568]\n"
     ]
    }
   ],
   "source": [
    "table1=expqua(81000,-math.pi/4,-math.pi/8,math.pi/4,26*math.pi/180)\n",
    "for i in table1:\n",
    "    print(i)"
   ]
  },
  {
   "cell_type": "code",
   "execution_count": 13,
   "metadata": {},
   "outputs": [],
   "source": [
    "def scalc(Elist):\n",
    "    Elist=[]\n",
    "    #Nc=llista de coincidències, agafa la última columna de la taula\n",
    "    Nc=[]\n",
    "    for result in table1:\n",
    "        Nc.append(result[4])\n",
    "    #posicions en la llista de coincidències de E(alpha,beta). Ho faig així perquè segueixen un patró.\n",
    "    posab=[0,1,4,5]\n",
    "    for i in posab:\n",
    "        #calcula la E segons la posició de E(alpha,beta) de la llista de coincidències\n",
    "        E=(Nc[i]+Nc[i+10]-Nc[i+2]-Nc[i+8])/(Nc[i]+Nc[i+10]+Nc[i+2]+Nc[i+8])\n",
    "        Elist.append(E)\n",
    "    #Agafem els angles a=-45, a'=0 i b=22.5, b'=-22.5\n",
    "    #print(Elist)\n",
    "    S=Elist[0]-Elist[1]+Elist[2]+Elist[3]\n",
    "\n",
    "    return(S)\n"
   ]
  },
  {
   "cell_type": "code",
   "execution_count": 14,
   "metadata": {},
   "outputs": [
    {
     "data": {
      "text/plain": [
       "2.6853008716264597"
      ]
     },
     "execution_count": 14,
     "metadata": {},
     "output_type": "execute_result"
    }
   ],
   "source": [
    "scalc(Elist)"
   ]
  },
  {
   "cell_type": "code",
   "execution_count": null,
   "metadata": {},
   "outputs": [],
   "source": []
  }
 ],
 "metadata": {
  "kernelspec": {
   "display_name": "Python 3",
   "language": "python",
   "name": "python3"
  },
  "language_info": {
   "codemirror_mode": {
    "name": "ipython",
    "version": 3
   },
   "file_extension": ".py",
   "mimetype": "text/x-python",
   "name": "python",
   "nbconvert_exporter": "python",
   "pygments_lexer": "ipython3",
   "version": "3.8.5"
  }
 },
 "nbformat": 4,
 "nbformat_minor": 4
}
